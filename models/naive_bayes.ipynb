{
 "cells": [
  {
   "cell_type": "code",
   "execution_count": 1,
   "metadata": {},
   "outputs": [],
   "source": [
    "import pandas as pd\n",
    "from sklearn.model_selection import train_test_split\n",
    "from imblearn.over_sampling import SMOTE\n",
    "from sklearn.naive_bayes import GaussianNB\n",
    "from sklearn.metrics import accuracy_score, classification_report, confusion_matrix, recall_score, f1_score, precision_score"
   ]
  },
  {
   "cell_type": "code",
   "execution_count": 2,
   "metadata": {},
   "outputs": [],
   "source": [
    "# Load the dataset\n",
    "file_path = './_labeled_features/features_15S.csv.gz'\n",
    "data = pd.read_csv(file_path, compression='gzip')\n",
    "\n",
    "\n",
    "# Select the specified features and the target variable\n",
    "features = ['std_rush_order', 'avg_rush_order', 'std_trades', 'std_volume', \n",
    "            'avg_volume', 'std_price', 'avg_price', 'avg_price_max']\n",
    "X = data[features]\n",
    "y = data['gt']\n",
    "\n",
    "# Split the data into training and testing sets (80% train, 20% test)\n",
    "X_train, X_test, y_train, y_test = train_test_split(X, y, test_size=0.2, random_state=42)\n"
   ]
  },
  {
   "cell_type": "code",
   "execution_count": 3,
   "metadata": {},
   "outputs": [
    {
     "name": "stdout",
     "output_type": "stream",
     "text": [
      "gt\n",
      "0    467032\n",
      "1       251\n",
      "Name: count, dtype: int64\n",
      "Fraction of Anomalies: 0.0005371477241842737\n"
     ]
    }
   ],
   "source": [
    "value_counts = y_train.value_counts()\n",
    "print(value_counts)\n",
    "print(\n",
    "    f\"Fraction of Anomalies: {value_counts[1] / (value_counts.iloc[1]+value_counts.iloc[0])}\"\n",
    ")"
   ]
  },
  {
   "cell_type": "markdown",
   "metadata": {},
   "source": [
    "# Gaussian Naive Bayes"
   ]
  },
  {
   "cell_type": "code",
   "execution_count": 4,
   "metadata": {},
   "outputs": [
    {
     "name": "stdout",
     "output_type": "stream",
     "text": [
      "Classification Report:\n",
      "               precision    recall  f1-score   support\n",
      "\n",
      "           0       1.00      0.99      1.00    116755\n",
      "           1       0.06      0.95      0.11        66\n",
      "\n",
      "    accuracy                           0.99    116821\n",
      "   macro avg       0.53      0.97      0.55    116821\n",
      "weighted avg       1.00      0.99      0.99    116821\n",
      "\n",
      "Confusion Matrix:\n",
      " [[115700   1055]\n",
      " [     3     63]]\n",
      "Accuracy:  0.9909434091473279\n",
      "Precision:  0.05635062611806798\n",
      "Recall:  0.9545454545454546\n",
      "F1_Macro:  0.5509337795516912\n",
      "F1_Micro:  0.990943409147328\n"
     ]
    }
   ],
   "source": [
    "\n",
    "# Initialize the Gaussian Naive Bayes classifier and train the model on the training data\n",
    "model = GaussianNB()\n",
    "model.fit(X_train, y_train)\n",
    "\n",
    "# Predict the labels for the testing set\n",
    "y_pred = model.predict(X_test)\n",
    "\n",
    "\n",
    "# Print the results\n",
    "print(\"Classification Report:\\n\",  classification_report(y_test, y_pred))\n",
    "print(\"Confusion Matrix:\\n\", confusion_matrix(y_test, y_pred))\n",
    "print(\"Accuracy: \",  accuracy_score(y_test, y_pred))\n",
    "print(\"Precision: \",  precision_score(y_test, y_pred))\n",
    "print(\"Recall: \", recall_score(y_test, y_pred))\n",
    "print(\"F1_Macro: \" , f1_score(y_test, y_pred, average='macro'))\n",
    "print(\"F1_Micro: \" , f1_score(y_test, y_pred, average='micro'))"
   ]
  },
  {
   "cell_type": "markdown",
   "metadata": {},
   "source": [
    "# NB with NSD Data"
   ]
  },
  {
   "cell_type": "code",
   "execution_count": 7,
   "metadata": {},
   "outputs": [
    {
     "name": "stdout",
     "output_type": "stream",
     "text": [
      "Classification Report:\n",
      "               precision    recall  f1-score   support\n",
      "\n",
      "           0       1.00      0.99      1.00    117354\n",
      "           1       0.09      0.84      0.16        75\n",
      "\n",
      "    accuracy                           0.99    117429\n",
      "   macro avg       0.54      0.92      0.58    117429\n",
      "weighted avg       1.00      0.99      1.00    117429\n",
      "\n",
      "Confusion Matrix:\n",
      " [[116710    644]\n",
      " [    12     63]]\n",
      "Accuracy:  0.9944136456922906\n",
      "Precision:  0.0891089108910891\n",
      "Recall:  0.84\n",
      "F1_Macro:  0.57916140555307\n",
      "F1_Micro:  0.9944136456922906\n"
     ]
    }
   ],
   "source": [
    "# Load the dataset\n",
    "file_path = './_labeled_features/features_15S.csv.gz'\n",
    "lm_data = pd.read_csv(file_path, compression='gzip')\n",
    "nsd_data =  pd.read_csv('./_labeled_features/natural_sd/features_15S.csv')\n",
    "\n",
    "data = pd.concat([lm_data, nsd_data])\n",
    "\n",
    "# Select the specified features and the target variable\n",
    "features = ['std_rush_order', 'avg_rush_order', 'std_trades', 'std_volume', \n",
    "            'avg_volume', 'std_price', 'avg_price', 'avg_price_max']\n",
    "X = data[features]\n",
    "y = data['gt']\n",
    "\n",
    "# Split the data into training and testing sets (80% train, 20% test)\n",
    "X_train, X_test, y_train, y_test = train_test_split(X, y, test_size=0.2, random_state=42)\n",
    "\n",
    "# Initialize the Gaussian Naive Bayes classifier and train the model on the training data\n",
    "model = GaussianNB()\n",
    "model.fit(X_train, y_train)\n",
    "\n",
    "# Predict the labels for the testing set\n",
    "y_pred = model.predict(X_test)\n",
    "\n",
    "\n",
    "# Print the results\n",
    "print(\"Classification Report:\\n\",  classification_report(y_test, y_pred))\n",
    "print(\"Confusion Matrix:\\n\", confusion_matrix(y_test, y_pred))\n",
    "print(\"Accuracy: \",  accuracy_score(y_test, y_pred))\n",
    "print(\"Precision: \",  precision_score(y_test, y_pred))\n",
    "print(\"Recall: \", recall_score(y_test, y_pred))\n",
    "print(\"F1_Macro: \" , f1_score(y_test, y_pred, average='macro'))\n",
    "print(\"F1_Micro: \" , f1_score(y_test, y_pred, average='micro'))"
   ]
  },
  {
   "cell_type": "markdown",
   "metadata": {},
   "source": [
    "# Try Improving Imbalance with SMOTE"
   ]
  },
  {
   "cell_type": "code",
   "execution_count": 5,
   "metadata": {},
   "outputs": [
    {
     "name": "stdout",
     "output_type": "stream",
     "text": [
      "Classification Report:\n",
      "               precision    recall  f1-score   support\n",
      "\n",
      "           0       1.00      0.99      0.99    116755\n",
      "           1       0.05      0.95      0.09        66\n",
      "\n",
      "    accuracy                           0.99    116821\n",
      "   macro avg       0.52      0.97      0.54    116821\n",
      "weighted avg       1.00      0.99      0.99    116821\n",
      "\n",
      "Confusion Matrix:\n",
      " [[115493   1262]\n",
      " [     3     63]]\n",
      "Accuracy:  0.9891714674587617\n",
      "Precision:  0.05635062611806798\n",
      "Recall:  0.9545454545454546\n",
      "F1_Macro:  0.5425678107166717\n",
      "F1_Micro:  0.9891714674587617\n"
     ]
    }
   ],
   "source": [
    "# Initialize SMOTE and apply it to generate synthetic samples in the training set\n",
    "smote = SMOTE(random_state=42)\n",
    "X_train_smote, y_train_smote = smote.fit_resample(X_train, y_train)\n",
    "\n",
    "# Train the Gaussian Naive Bayes model on the SMOTE-applied training set\n",
    "model_smote = GaussianNB()\n",
    "model_smote.fit(X_train_smote, y_train_smote)\n",
    "\n",
    "# Predict the labels for the testing set\n",
    "y_pred_smote = model_smote.predict(X_test)\n",
    "\n",
    "\n",
    "# Print the results\n",
    "print(\"Classification Report:\\n\",  classification_report(y_test, y_pred_smote))\n",
    "print(\"Confusion Matrix:\\n\", confusion_matrix(y_test, y_pred_smote))\n",
    "print(\"Accuracy: \",  accuracy_score(y_test, y_pred_smote))\n",
    "print(\"Precision: \",  precision_score(y_test, y_pred))\n",
    "print(\"Recall: \", recall_score(y_test, y_pred_smote))\n",
    "print(\"F1_Macro: \" , f1_score(y_test, y_pred_smote, average='macro'))\n",
    "print(\"F1_Micro: \" , f1_score(y_test, y_pred_smote, average='micro'))"
   ]
  },
  {
   "cell_type": "markdown",
   "metadata": {},
   "source": [
    "# Try computing sample weights"
   ]
  },
  {
   "cell_type": "code",
   "execution_count": 6,
   "metadata": {},
   "outputs": [
    {
     "name": "stdout",
     "output_type": "stream",
     "text": [
      "Classification Report:\n",
      "               precision    recall  f1-score   support\n",
      "\n",
      "           0       1.00      0.99      0.99    116755\n",
      "           1       0.05      0.95      0.09        66\n",
      "\n",
      "    accuracy                           0.99    116821\n",
      "   macro avg       0.52      0.97      0.54    116821\n",
      "weighted avg       1.00      0.99      0.99    116821\n",
      "\n",
      "Confusion Matrix:\n",
      " [[115517   1238]\n",
      " [     3     63]]\n",
      "Accuracy:  0.9893769099733781\n",
      "Precision:  0.05635062611806798\n",
      "Recall:  0.9545454545454546\n",
      "F1_Macro:  0.5434149179771947\n",
      "F1_Micro:  0.9893769099733781\n"
     ]
    }
   ],
   "source": [
    "from sklearn.utils.class_weight import compute_sample_weight\n",
    "\n",
    "\n",
    "# Compute sample weights based on class distribution\n",
    "sample_weights = compute_sample_weight(class_weight='balanced', y=y_train)\n",
    "\n",
    "# Initialize the Gaussian Naive Bayes classifier\n",
    "model_weighted = GaussianNB()\n",
    "\n",
    "# Train the model on the training data with sample weights\n",
    "model_weighted.fit(X_train, y_train, sample_weight=sample_weights)\n",
    "\n",
    "# Predict the labels for the testing set\n",
    "y_pred_weighted = model_weighted.predict(X_test)\n",
    "\n",
    "\n",
    "# Print the results\n",
    "print(\"Classification Report:\\n\",  classification_report(y_test, y_pred_weighted))\n",
    "print(\"Confusion Matrix:\\n\", confusion_matrix(y_test, y_pred_weighted))\n",
    "print(\"Accuracy: \",  accuracy_score(y_test, y_pred_weighted))\n",
    "print(\"Precision: \",  precision_score(y_test, y_pred))\n",
    "print(\"Recall: \", recall_score(y_test, y_pred_weighted))\n",
    "print(\"F1_Macro: \" , f1_score(y_test, y_pred_weighted, average='macro'))\n",
    "print(\"F1_Micro: \" , f1_score(y_test, y_pred_weighted, average='micro'))"
   ]
  }
 ],
 "metadata": {
  "kernelspec": {
   "display_name": "311venv",
   "language": "python",
   "name": "python3"
  },
  "language_info": {
   "codemirror_mode": {
    "name": "ipython",
    "version": 3
   },
   "file_extension": ".py",
   "mimetype": "text/x-python",
   "name": "python",
   "nbconvert_exporter": "python",
   "pygments_lexer": "ipython3",
   "version": "3.11.2"
  },
  "orig_nbformat": 4
 },
 "nbformat": 4,
 "nbformat_minor": 2
}
